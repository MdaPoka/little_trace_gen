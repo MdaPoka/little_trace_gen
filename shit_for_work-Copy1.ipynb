{
 "cells": [
  {
   "cell_type": "code",
   "execution_count": 59,
   "metadata": {},
   "outputs": [],
   "source": [
    "import yaml\n",
    "import numpy as np\n",
    "import numpy.random as rnd\n",
    "import time"
   ]
  },
  {
   "cell_type": "code",
   "execution_count": 60,
   "metadata": {},
   "outputs": [],
   "source": [
    "class host:\n",
    "    \n",
    "    def __init__(self, info):\n",
    "        self.__dict__ = info\n",
    "        \n",
    "        for key, item in self.__dict__.items():\n",
    "            self.__dict__[key] = np.array(item) if type(item) is list else item\n",
    "        \n",
    "        self.length = 10\n",
    "        self.objLba = self.max_objLba\n",
    "    \n",
    "    def gen_req(self):\n",
    "        self.objLba += self.length\n",
    "        self.gen_req_type()\n",
    "        self.gen_req_length()\n",
    "        self.gen_req_wait_timestamp()\n",
    "        if self.new_objLba() or self.objLba + self.length >= self.max_objLba:\n",
    "            self.gen_objLba()\n",
    "            while self.objLba + self.length >= self.max_objLba:\n",
    "                self.gen_objLba()\n",
    "        \n",
    "    def new_objLba(self):\n",
    "        return rnd.choice([0,1], p=self.new_offset_prob)\n",
    "        \n",
    "    def gen_req_type(self):\n",
    "        self.tp = rnd.choice(['READ', 'WRITE'], p=self.rw_prob)\n",
    "        self.opCode = '0x128001' if self.tp == 'READ' else '0x13218000'\n",
    "        self.result = 0\n",
    "            \n",
    "    def gen_req_length(self):\n",
    "        self.length = rnd.choice(self.req_len, p=self.req_len_prob)\n",
    "        \n",
    "    def gen_req_wait_timestamp(self):\n",
    "        self.timestamp = rnd.choice(self.req_wait, p=self.req_wait_prob)\n",
    "        self.timepoint = 1\n",
    "        self.last_time_nano = self.timestamp\n",
    "    \n",
    "    def gen_objLba(self):\n",
    "        tmp = rnd.choice([0,1], p=self.mem_prob)\n",
    "        self.objLba = rnd.randint(int(self.max_objLba * self.mem_split[tmp])) +\\\n",
    "                                                int(self.max_objLba * self.mem_split[0]) * tmp\n",
    "        self.volumeId = '0x6e'\n",
    "        self.objId = '0x6e'\n",
    "        \n",
    "    def send_req(self, columns):\n",
    "        self.gen_req()\n",
    "        return [self.__dict__[key] for key in columns]\n",
    "    "
   ]
  },
  {
   "cell_type": "code",
   "execution_count": 61,
   "metadata": {},
   "outputs": [],
   "source": [
    "class host_handler:\n",
    "    \n",
    "    def __init__(self, cfg_file):\n",
    "        cfg = [i for i in yaml.safe_load_all(cfg_file)]\n",
    "        self.__dict__ = cfg[0]\n",
    "        self.out = open(self.output, 'w')\n",
    "        del cfg[0]\n",
    "        self.active_hosts = []\n",
    "        self.host_prob = []\n",
    "        for i in cfg:\n",
    "            i['max_objLba'] = self.max_objLba\n",
    "            tmp_host = host(i)\n",
    "            self.active_hosts.append(tmp_host)\n",
    "            self.host_prob.append(tmp_host.host_prob)\n",
    "        self.host_prob = np.array(self.host_prob)\n",
    "        self.out.write(self.pattern.format(*self.columns) + '\\n')\n",
    "        \n",
    "    def gen_trace(self):\n",
    "        curr_time = time.time_ns()\n",
    "        for i in range(self.max_reqs):\n",
    "            req = rnd.choice(self.active_hosts, p=self.host_prob).send_req(self.columns)\n",
    "            if 'timestamp' in self.columns:\n",
    "                ind = self.columns.index('timestamp')\n",
    "                curr_time += req[ind]\n",
    "                req[ind] = time.strftime(\"%a %b  %d %X %Y \",time.localtime(curr_time/(10**9)))\n",
    "                if 'last_time_nano' in self.columns:\n",
    "                    ind = self.columns.index('last_time_nano')\n",
    "                    req[ind] = curr_time\n",
    "            self.out.write(self.pattern.format(*req) + '\\n')\n",
    "        self.out.close()"
   ]
  },
  {
   "cell_type": "code",
   "execution_count": 62,
   "metadata": {},
   "outputs": [],
   "source": [
    "cfg = open('cfg.yaml', 'r')\n",
    "t = host_handler(cfg)\n",
    "t.gen_trace()"
   ]
  }
 ],
 "metadata": {
  "kernelspec": {
   "display_name": "Python 3",
   "language": "python",
   "name": "python3"
  },
  "language_info": {
   "codemirror_mode": {
    "name": "ipython",
    "version": 3
   },
   "file_extension": ".py",
   "mimetype": "text/x-python",
   "name": "python",
   "nbconvert_exporter": "python",
   "pygments_lexer": "ipython3",
   "version": "3.7.3"
  }
 },
 "nbformat": 4,
 "nbformat_minor": 2
}
